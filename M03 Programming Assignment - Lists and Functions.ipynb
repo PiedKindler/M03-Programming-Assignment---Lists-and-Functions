{
 "cells": [
  {
   "cell_type": "code",
   "execution_count": 1,
   "id": "9c8f8535-c2ea-4dfb-8acf-fc74f38c42d8",
   "metadata": {},
   "outputs": [],
   "source": [
    "#     Misty Mayfield\n",
    "#     CO3937652\n",
    "#     SDEV220 Spring Software Development\n",
    "#     M03 Programming Assignment - Lists and Functions\n",
    "#     2/3/23"
   ]
  },
  {
   "cell_type": "code",
   "execution_count": 10,
   "id": "3e7895a6-2a3d-4961-94de-c5bb525563f1",
   "metadata": {},
   "outputs": [
    {
     "name": "stdout",
     "output_type": "stream",
     "text": [
      "['mozzarella', 'Cinderella', 'salmonella']\n",
      "['MOZZARELLA', 'Cinderella', 'salmonella']\n",
      "['MOZZARELLA', 'Cinderella']\n"
     ]
    }
   ],
   "source": [
    "things = [\"mozzarella\", \"cinderella\", \"salmonella\"]\n",
    "\n",
    "things[1] = things[1].capitalize()  #It does change the item from the list.\n",
    "print(things)\n",
    "\n",
    "things[0] = things[0].upper()\n",
    "print(things)\n",
    "\n",
    "del things[-1]  #Nobel Prize collected\n",
    "print(things)"
   ]
  },
  {
   "cell_type": "code",
   "execution_count": 13,
   "id": "96908321-024f-4cb8-9329-ec4e205234ad",
   "metadata": {},
   "outputs": [
    {
     "name": "stdout",
     "output_type": "stream",
     "text": [
      "Harry Ron Hermione\n"
     ]
    }
   ],
   "source": [
    "def good():\n",
    "    print('Harry', 'Ron', 'Hermione')\n",
    "good()"
   ]
  },
  {
   "cell_type": "code",
   "execution_count": 32,
   "id": "200649f6-ea58-4355-9f7e-0af78bb9eaa7",
   "metadata": {},
   "outputs": [
    {
     "name": "stdout",
     "output_type": "stream",
     "text": [
      "5\n"
     ]
    }
   ],
   "source": [
    "def get_odds(data, *, start=1, end=10):\n",
    "    for value in (data[start:end]):\n",
    "        print(value)\n",
    "data = [1, 3, 5, 7, 9]\n",
    "get_odds(data, start=2, end=3)"
   ]
  }
 ],
 "metadata": {
  "kernelspec": {
   "display_name": "Python 3 (ipykernel)",
   "language": "python",
   "name": "python3"
  },
  "language_info": {
   "codemirror_mode": {
    "name": "ipython",
    "version": 3
   },
   "file_extension": ".py",
   "mimetype": "text/x-python",
   "name": "python",
   "nbconvert_exporter": "python",
   "pygments_lexer": "ipython3",
   "version": "3.9.13"
  }
 },
 "nbformat": 4,
 "nbformat_minor": 5
}
